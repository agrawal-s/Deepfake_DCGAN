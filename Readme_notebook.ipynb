{
 "cells": [
  {
   "cell_type": "markdown",
   "metadata": {},
   "source": [
    "# Readme.md file for DCGAN Brain image data.\n",
    "\n",
    "# Author: Shrikant Agrawal\n",
    "\n",
    "## Project: DC GAN with celeb-a data"
   ]
  },
  {
   "cell_type": "markdown",
   "metadata": {},
   "source": [
    "**Note to the readers:** This notebook provides a brief introduction to the DC-GANs and their application to generate facial images using celebrity imaged data available at <a href=\"http://mmlab.ie.cuhk.edu.hk/projects/CelebA.html\" target=\"_blank\" >celeb-a</a> "
   ]
  },
  {
   "cell_type": "markdown",
   "metadata": {},
   "source": [
    "\n",
    "## Project Aim:\n",
    "### Create a generative model of the Celebrity facial datausing a DCGAN that has a “reasonably clear image” and a Structured Similarity (SSIM) of over 0.6. \n",
    "\n",
    "## Expected Outcomes:\n",
    "\n",
    "* Design and train a DCGAN model bsed on the research <a href=\"https://arxiv.org/abs/1511.06434\" target=\"_blank\" >Unsupervised Representation Learning with Deep Convolutional Generative Adversarial Networks</a>.\n",
    "\n",
    "* Write a module that implements the components of the model either as a function or a class that can be called by a separate driver script containing a main function. Numpy should not be used and must be written in TF. \n",
    "\n",
    "* Include a driver script that shows example usage of the module and runs to solve the recognition problem with appropriate plots and visualisations relevant to the problem."
   ]
  },
  {
   "cell_type": "markdown",
   "metadata": {},
   "source": [
    "# DC GAN\n",
    "\n",
    "\n",
    "DC GAN or GAN: *Deep Convolutional Generative Adversarial Network* is the combination of two neural network models that are trained simultaneusly using an adversarial process.\n",
    "\n",
    "The goal of GAN is to take a set of random input array and generate near-real images based in the input images. The generator component of the model creates the images from the input array, while the discriminator component tries to identify whether the generated image from generator is real or fake. Over the time, generator improves by taking the feedback from discriminator and modifying its weights and biases to make the generated images resemble more to the training images.\n",
    "\n",
    "\n",
    "\n",
    "\n",
    "\n",
    "<img src=\"https://github.com/agrawal-s/PatternFlow/blob/topic-recognition/recognition/Shri_GAN/Screenshots/1_fN-q2XG9CTii8S6Xh8SIyg.gif?raw=true\" width=\"256\" height=\"256\" align = \"center\"/>\n",
    "\n",
    "<div style=\"text-align:center\">\n",
    "<a href=\"https://towardsdatascience.com/implementing-deep-convolutional-generative-adversarial-networks-dcgan-573df2b63c0d\" target=\"_blank\" >Image source.</a></div>\n"
   ]
  },
  {
   "cell_type": "markdown",
   "metadata": {},
   "source": [
    "\n",
    "\n",
    "DC-GANs were first introduced in the research paper <a href=\"https://arxiv.org/abs/1511.06434\" target=\"_blank\" >Unsupervised Representation Learning with Deep Convolutional Generative Adversarial Networks</a>\n",
    " by *Alec Radford, Luke Metz, Soumith Chintala.* Since then the GANS have been customised and developed for a variety of applications that doesn't limit to the image data. "
   ]
  },
  {
   "cell_type": "markdown",
   "metadata": {},
   "source": [
    "# Relocate to Home.\n"
   ]
  },
  {
   "cell_type": "code",
   "execution_count": null,
   "metadata": {},
   "outputs": [],
   "source": []
  },
  {
   "cell_type": "code",
   "execution_count": null,
   "metadata": {},
   "outputs": [],
   "source": []
  },
  {
   "cell_type": "code",
   "execution_count": null,
   "metadata": {},
   "outputs": [],
   "source": []
  },
  {
   "cell_type": "code",
   "execution_count": null,
   "metadata": {},
   "outputs": [],
   "source": []
  }
 ],
 "metadata": {
  "kernelspec": {
   "display_name": "Python 3",
   "language": "python",
   "name": "python3"
  },
  "language_info": {
   "codemirror_mode": {
    "name": "ipython",
    "version": 3
   },
   "file_extension": ".py",
   "mimetype": "text/x-python",
   "name": "python",
   "nbconvert_exporter": "python",
   "pygments_lexer": "ipython3",
   "version": "3.7.7"
  }
 },
 "nbformat": 4,
 "nbformat_minor": 4
}
