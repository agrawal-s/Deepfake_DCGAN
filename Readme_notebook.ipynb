{
 "cells": [
  {
   "cell_type": "markdown",
   "metadata": {},
   "source": [
    "# Readme.md file for DCGAN Brain image data.\n",
    "\n",
    "# Author: Shrikant Agrawal\n",
    "\n",
    "## Project: DC GAN with celeb-a data"
   ]
  },
  {
   "cell_type": "markdown",
   "metadata": {},
   "source": [
    "**Note to the readers:** This notebook provides a brief introduction to the DC-GANs and their application to generate facial images using celebrity imaged data available at <a href=\"http://mmlab.ie.cuhk.edu.hk/projects/CelebA.html\" target=\"_blank\" >https://www.oasis-brains.org/</a> "
   ]
  }
 ],
 "metadata": {
  "kernelspec": {
   "display_name": "Python 3",
   "language": "python",
   "name": "python3"
  },
  "language_info": {
   "codemirror_mode": {
    "name": "ipython",
    "version": 3
   },
   "file_extension": ".py",
   "mimetype": "text/x-python",
   "name": "python",
   "nbconvert_exporter": "python",
   "pygments_lexer": "ipython3",
   "version": "3.7.7"
  }
 },
 "nbformat": 4,
 "nbformat_minor": 4
}
